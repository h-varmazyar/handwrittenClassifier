{
 "cells": [
  {
   "cell_type": "code",
   "execution_count": 155,
   "metadata": {
    "collapsed": true
   },
   "outputs": [],
   "source": [
    "import numpy as np\n",
    "import gzip\n",
    "import struct\n",
    "import matplotlib.pyplot as plt"
   ]
  },
  {
   "cell_type": "code",
   "execution_count": 156,
   "outputs": [],
   "source": [
    "def load_data(data_path, labels_path):\n",
    "    with gzip.open(data_path, 'rb') as gz:\n",
    "        print(struct.unpack('>bbbbIII', gz.read(16)))\n",
    "        data = np.frombuffer(gz.read(), np.uint8).reshape(-1, 28, 28)\n",
    "    with gzip.open(labels_path, 'rb') as gz:\n",
    "        print(struct.unpack('>bbbbI', gz.read(8)))\n",
    "        labels = np.frombuffer(gz.read(), np.uint8)\n",
    "    return data, labels"
   ],
   "metadata": {
    "collapsed": false
   }
  },
  {
   "cell_type": "code",
   "execution_count": 157,
   "outputs": [],
   "source": [
    "# plt.subplot(1, 2, 1)\n",
    "# plt.title(str(train_labels[0]))\n",
    "# plt.imshow(train_images[0], 'gray')\n",
    "#\n",
    "# plt.subplot(1, 2, 2)\n",
    "# plt.title(str(test_labels[0]))\n",
    "# plt.imshow(test_images[0], 'gray')"
   ],
   "metadata": {
    "collapsed": false
   }
  },
  {
   "cell_type": "code",
   "execution_count": 166,
   "outputs": [],
   "source": [
    "def one_hot_encoder(labels):\n",
    "    uniques = np.unique(labels)  # get unique elements\n",
    "    uniques.sort()  #sort them\n",
    "    uniques = uniques[::-1]  #reverse array order\n",
    "    one_hot_translation = {}  #create an empty dictionary with unique items as keys, and one hot translation as value\n",
    "    for item in uniques:\n",
    "        one_hot_translation[item] = np.zeros(uniques.shape, dtype=int)\n",
    "        one_hot_translation[item][np.where(uniques == item)[0]] = 1\n",
    "    return one_hot_translation\n",
    "    #\n",
    "    # table = np.zeros((labels.shape[0], 10))\n",
    "    # for i in range(labels.shape[0]):\n",
    "    #     table[i][int(labels[i][0])] = 1\n",
    "    # return table"
   ],
   "metadata": {
    "collapsed": false
   }
  },
  {
   "cell_type": "code",
   "execution_count": 167,
   "outputs": [
    {
     "name": "stdout",
     "output_type": "stream",
     "text": [
      "(0, 0, 8, 3, 60000, 28, 28)\n",
      "(0, 0, 8, 1, 60000)\n",
      "(0, 0, 8, 3, 10000, 28, 28)\n",
      "(0, 0, 8, 1, 10000)\n",
      "im1: (60000,)\n"
     ]
    },
    {
     "ename": "AttributeError",
     "evalue": "'dict' object has no attribute 'shape'",
     "output_type": "error",
     "traceback": [
      "\u001B[0;31m---------------------------------------------------------------------------\u001B[0m",
      "\u001B[0;31mAttributeError\u001B[0m                            Traceback (most recent call last)",
      "Cell \u001B[0;32mIn[167], line 129\u001B[0m\n\u001B[1;32m    126\u001B[0m train_targets \u001B[38;5;241m=\u001B[39m one_hot_encoder(train_labels)\n\u001B[1;32m    127\u001B[0m test_targets \u001B[38;5;241m=\u001B[39m one_hot_encoder(test_labels)\n\u001B[0;32m--> 129\u001B[0m NN \u001B[38;5;241m=\u001B[39m \u001B[43mNeuralNetwork\u001B[49m\u001B[43m(\u001B[49m\u001B[43mtrain_images\u001B[49m\u001B[43m,\u001B[49m\u001B[43m \u001B[49m\u001B[43mtrain_targets\u001B[49m\u001B[43m)\u001B[49m\n\u001B[1;32m    130\u001B[0m NN\u001B[38;5;241m.\u001B[39mtrain()\n\u001B[1;32m    131\u001B[0m NN\u001B[38;5;241m.\u001B[39mplot()\n",
      "Cell \u001B[0;32mIn[167], line 14\u001B[0m, in \u001B[0;36mNeuralNetwork.__init__\u001B[0;34m(self, data, targets, batch, lr, epochs)\u001B[0m\n\u001B[1;32m     11\u001B[0m \u001B[38;5;28mself\u001B[39m\u001B[38;5;241m.\u001B[39mloss \u001B[38;5;241m=\u001B[39m []\n\u001B[1;32m     12\u001B[0m \u001B[38;5;28mself\u001B[39m\u001B[38;5;241m.\u001B[39macc \u001B[38;5;241m=\u001B[39m []\n\u001B[0;32m---> 14\u001B[0m \u001B[38;5;28;43mself\u001B[39;49m\u001B[38;5;241;43m.\u001B[39;49m\u001B[43minit_weights\u001B[49m\u001B[43m(\u001B[49m\u001B[43m)\u001B[49m\n",
      "Cell \u001B[0;32mIn[167], line 19\u001B[0m, in \u001B[0;36mNeuralNetwork.init_weights\u001B[0;34m(self)\u001B[0m\n\u001B[1;32m     17\u001B[0m \u001B[38;5;28mself\u001B[39m\u001B[38;5;241m.\u001B[39mW1 \u001B[38;5;241m=\u001B[39m np\u001B[38;5;241m.\u001B[39mrandom\u001B[38;5;241m.\u001B[39mrandn(\u001B[38;5;28mself\u001B[39m\u001B[38;5;241m.\u001B[39mdata\u001B[38;5;241m.\u001B[39mshape[\u001B[38;5;241m1\u001B[39m], \u001B[38;5;241m256\u001B[39m)\n\u001B[1;32m     18\u001B[0m \u001B[38;5;28mself\u001B[39m\u001B[38;5;241m.\u001B[39mW2 \u001B[38;5;241m=\u001B[39m np\u001B[38;5;241m.\u001B[39mrandom\u001B[38;5;241m.\u001B[39mrandn(\u001B[38;5;28mself\u001B[39m\u001B[38;5;241m.\u001B[39mW1\u001B[38;5;241m.\u001B[39mshape[\u001B[38;5;241m1\u001B[39m], \u001B[38;5;241m128\u001B[39m)\n\u001B[0;32m---> 19\u001B[0m \u001B[38;5;28mself\u001B[39m\u001B[38;5;241m.\u001B[39mW3 \u001B[38;5;241m=\u001B[39m np\u001B[38;5;241m.\u001B[39mrandom\u001B[38;5;241m.\u001B[39mrandn(\u001B[38;5;28mself\u001B[39m\u001B[38;5;241m.\u001B[39mW2\u001B[38;5;241m.\u001B[39mshape[\u001B[38;5;241m1\u001B[39m], \u001B[38;5;28;43mself\u001B[39;49m\u001B[38;5;241;43m.\u001B[39;49m\u001B[43my\u001B[49m\u001B[38;5;241;43m.\u001B[39;49m\u001B[43mshape\u001B[49m[\u001B[38;5;241m0\u001B[39m])\n\u001B[1;32m     21\u001B[0m \u001B[38;5;28mself\u001B[39m\u001B[38;5;241m.\u001B[39mb1 \u001B[38;5;241m=\u001B[39m np\u001B[38;5;241m.\u001B[39mrandom\u001B[38;5;241m.\u001B[39mrandn(\u001B[38;5;28mself\u001B[39m\u001B[38;5;241m.\u001B[39mW1\u001B[38;5;241m.\u001B[39mshape[\u001B[38;5;241m1\u001B[39m], )\n\u001B[1;32m     22\u001B[0m \u001B[38;5;28mself\u001B[39m\u001B[38;5;241m.\u001B[39mb2 \u001B[38;5;241m=\u001B[39m np\u001B[38;5;241m.\u001B[39mrandom\u001B[38;5;241m.\u001B[39mrandn(\u001B[38;5;28mself\u001B[39m\u001B[38;5;241m.\u001B[39mW2\u001B[38;5;241m.\u001B[39mshape[\u001B[38;5;241m1\u001B[39m], )\n",
      "\u001B[0;31mAttributeError\u001B[0m: 'dict' object has no attribute 'shape'"
     ]
    }
   ],
   "source": [
    "class NeuralNetwork:\n",
    "    def __init__(self, data, targets, batch=64, lr=1e-3, epochs=50):\n",
    "        self.data = data\n",
    "        self.target = targets\n",
    "        self.batch = batch\n",
    "        self.epochs = epochs\n",
    "        self.lr = lr\n",
    "\n",
    "        self.x = self.data[:self.batch]  # batch input\n",
    "        self.y = self.target # batch target value\n",
    "        self.loss = []\n",
    "        self.acc = []\n",
    "\n",
    "        self.init_weights()\n",
    "\n",
    "    def init_weights(self):\n",
    "        self.W1 = np.random.randn(self.data.shape[1], 256)\n",
    "        self.W2 = np.random.randn(self.W1.shape[1], 128)\n",
    "        self.W3 = np.random.randn(self.W2.shape[1], self.y.shape[0])\n",
    "\n",
    "        self.b1 = np.random.randn(self.W1.shape[1], )\n",
    "        self.b2 = np.random.randn(self.W2.shape[1], )\n",
    "        self.b3 = np.random.randn(self.W3.shape[1], )\n",
    "\n",
    "    def ReLU(self, x):\n",
    "        return np.maximum(0, x)\n",
    "\n",
    "    def dReLU(self, x):\n",
    "        return 1 * (x > 0)\n",
    "\n",
    "    def softmax(self, z):\n",
    "        z = z - np.max(z, axis=1).reshape(z.shape[0], 1)\n",
    "        return np.exp(z) / np.sum(np.exp(z), axis=1).reshape(z.shape[0], 1)\n",
    "\n",
    "    def shuffle(self):\n",
    "        idx = [i for i in range(self.data.shape[0])]\n",
    "        np.random.shuffle(idx)\n",
    "        self.data = self.data[idx]\n",
    "        self.target = self.target[idx]\n",
    "\n",
    "    def feedforward(self):\n",
    "        assert self.x.shape[1] == self.W1.shape[0]\n",
    "        self.z1 = self.x.dot(self.W1) + self.b1\n",
    "        self.a1 = self.ReLU(self.z1)\n",
    "\n",
    "        assert self.a1.shape[1] == self.W2.shape[0]\n",
    "        self.z2 = self.a1.dot(self.W2) + self.b2\n",
    "        self.a2 = self.ReLU(self.z2)\n",
    "\n",
    "        assert self.a2.shape[1] == self.W3.shape[0]\n",
    "        self.z3 = self.a2.dot(self.W3) + self.b3\n",
    "        self.a3 = self.softmax(self.z3)\n",
    "        self.error = self.a3 - self.y\n",
    "\n",
    "    def backprop(self):\n",
    "        dcost = (1 / self.batch) * self.error\n",
    "\n",
    "        DW3 = np.dot(dcost.T, self.a2).T\n",
    "        DW2 = np.dot((np.dot((dcost), self.W3.T) * self.dReLU(self.z2)).T, self.a1).T\n",
    "        DW1 = np.dot((np.dot(np.dot((dcost), self.W3.T) * self.dReLU(self.z2), self.W2.T) * self.dReLU(self.z1)).T,\n",
    "                     self.x).T\n",
    "\n",
    "        db3 = np.sum(dcost, axis=0)\n",
    "        db2 = np.sum(np.dot((dcost), self.W3.T) * self.dReLU(self.z2), axis=0)\n",
    "        db1 = np.sum((np.dot(np.dot((dcost), self.W3.T) * self.dReLU(self.z2), self.W2.T) * self.dReLU(self.z1)),\n",
    "                     axis=0)\n",
    "\n",
    "        assert DW3.shape == self.W3.shape\n",
    "        assert DW2.shape == self.W2.shape\n",
    "        assert DW1.shape == self.W1.shape\n",
    "\n",
    "        assert db3.shape == self.b3.shape\n",
    "        assert db2.shape == self.b2.shape\n",
    "        assert db1.shape == self.b1.shape\n",
    "\n",
    "        self.W3 = self.W3 - self.lr * DW3\n",
    "        self.W2 = self.W2 - self.lr * DW2\n",
    "        self.W1 = self.W1 - self.lr * DW1\n",
    "\n",
    "        self.b3 = self.b3 - self.lr * db3\n",
    "        self.b2 = self.b2 - self.lr * db2\n",
    "        self.b1 = self.b1 - self.lr * db1\n",
    "\n",
    "    def train(self):\n",
    "        for epoch in range(self.epochs):\n",
    "            l = 0\n",
    "            acc = 0\n",
    "            self.shuffle()\n",
    "\n",
    "            for batch in range(self.data.shape[0] // self.batch - 1):\n",
    "                start = batch * self.batch\n",
    "                end = (batch + 1) * self.batch\n",
    "                self.x = self.data[start:end]\n",
    "                self.y = self.target[start:end]\n",
    "                self.feedforward()\n",
    "                self.backprop()\n",
    "                l += np.mean(self.error ** 2)\n",
    "                acc += np.count_nonzero(np.argmax(self.a3, axis=1) == np.argmax(self.y, axis=1)) / self.batch\n",
    "\n",
    "            self.loss.append(l / (self.data.shape[0] // self.batch))\n",
    "            self.acc.append(acc * 100 / (self.data.shape[0] // self.batch))\n",
    "\n",
    "    def plot(self):\n",
    "        plt.figure(dpi=125)\n",
    "        plt.plot(self.loss)\n",
    "        plt.xlabel(\"Epochs\")\n",
    "        plt.ylabel(\"Loss\")\n",
    "\n",
    "    def acc_plot(self):\n",
    "        plt.figure(dpi=125)\n",
    "        plt.plot(self.acc)\n",
    "        plt.xlabel(\"Epochs\")\n",
    "        plt.ylabel(\"Accuracy\")\n",
    "\n",
    "    def test(self, xtest, ytest):\n",
    "        self.x = xtest\n",
    "        self.y = ytest\n",
    "        self.feedforward()\n",
    "        acc = np.count_nonzero(np.argmax(self.a3, axis=1) == np.argmax(self.y, axis=1)) / self.x.shape[0]\n",
    "        print(\"Accuracy:\", 100 * acc, \"%\")\n",
    "\n",
    "train_images, train_labels = load_data('./files/train-images-idx3-ubyte.gz', './files/train-labels-idx1-ubyte.gz')\n",
    "test_images, test_labels = load_data('./files/t10k-images-idx3-ubyte.gz', './files/t10k-labels-idx1-ubyte.gz')\n",
    "\n",
    "print(\"im1:\", train_labels.shape)\n",
    "train_targets = one_hot_encoder(train_labels)\n",
    "test_targets = one_hot_encoder(test_labels)\n",
    "\n",
    "NN = NeuralNetwork(train_images, train_targets)\n",
    "NN.train()\n",
    "NN.plot()\n",
    "NN.test(test_images, test_targets)"
   ],
   "metadata": {
    "collapsed": false
   }
  },
  {
   "cell_type": "code",
   "execution_count": null,
   "outputs": [],
   "source": [],
   "metadata": {
    "collapsed": false,
    "pycharm": {
     "is_executing": true
    }
   }
  },
  {
   "cell_type": "code",
   "execution_count": null,
   "outputs": [],
   "source": [],
   "metadata": {
    "collapsed": false
   }
  }
 ],
 "metadata": {
  "kernelspec": {
   "display_name": "Python 3",
   "language": "python",
   "name": "python3"
  },
  "language_info": {
   "codemirror_mode": {
    "name": "ipython",
    "version": 2
   },
   "file_extension": ".py",
   "mimetype": "text/x-python",
   "name": "python",
   "nbconvert_exporter": "python",
   "pygments_lexer": "ipython2",
   "version": "2.7.6"
  }
 },
 "nbformat": 4,
 "nbformat_minor": 0
}
