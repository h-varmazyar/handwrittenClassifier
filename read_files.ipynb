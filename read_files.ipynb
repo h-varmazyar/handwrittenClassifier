{
 "cells": [
  {
   "cell_type": "code",
   "execution_count": 16,
   "metadata": {
    "collapsed": true
   },
   "outputs": [],
   "source": [
    "import numpy as np\n",
    "import gzip\n",
    "import struct\n",
    "import matplotlib.pyplot as plt"
   ]
  },
  {
   "cell_type": "code",
   "execution_count": 99,
   "outputs": [],
   "source": [
    "def load_data(data_path, labels_path):\n",
    "    with gzip.open(data_path, 'rb') as gz:\n",
    "        print(struct.unpack('>bbbbIII', gz.read(16)))\n",
    "        data=np.frombuffer(gz.read(), np.uint8).reshape(-1, 28, 28)\n",
    "    with gzip.open(labels_path, 'rb') as gz:\n",
    "        print(struct.unpack('>bbbbI', gz.read(8)))\n",
    "        labels=np.frombuffer(gz.read(), np.uint8)\n",
    "    return data, labels"
   ],
   "metadata": {
    "collapsed": false
   }
  },
  {
   "cell_type": "code",
   "execution_count": 100,
   "outputs": [
    {
     "name": "stdout",
     "output_type": "stream",
     "text": [
      "(0, 0, 8, 3, 60000, 28, 28)\n",
      "(0, 0, 8, 1, 60000)\n",
      "(0, 0, 8, 3, 10000, 28, 28)\n",
      "(0, 0, 8, 1, 10000)\n"
     ]
    }
   ],
   "source": [
    "train_images, train_labels = load_data('./files/train-images-idx3-ubyte.gz', './files/train-labels-idx1-ubyte.gz')\n",
    "test_images, test_labels = load_data('./files/t10k-images-idx3-ubyte.gz', './files/t10k-labels-idx1-ubyte.gz')"
   ],
   "metadata": {
    "collapsed": false
   }
  },
  {
   "cell_type": "code",
   "execution_count": 103,
   "outputs": [
    {
     "data": {
      "text/plain": "<matplotlib.image.AxesImage at 0x7f71f8f53010>"
     },
     "execution_count": 103,
     "metadata": {},
     "output_type": "execute_result"
    },
    {
     "data": {
      "text/plain": "<Figure size 640x480 with 2 Axes>",
      "image/png": "[encoded data removed]"
     },
     "metadata": {},
     "output_type": "display_data"
    }
   ],
   "source": [
    "plt.subplot(1,2,1)\n",
    "plt.title(str(train_labels[0]))\n",
    "plt.imshow(train_images[0], 'gray')\n",
    "\n",
    "plt.subplot(1,2,2)\n",
    "plt.title(str(test_labels[0]))\n",
    "plt.imshow(test_images[0], 'gray')"
   ],
   "metadata": {
    "collapsed": false
   }
  },
  {
   "cell_type": "code",
   "execution_count": 94,
   "outputs": [],
   "source": [
    "def one_hot_encoder(labels):\n",
    "    uniques=np.unique(labels) # get unique elements\n",
    "    uniques.sort() #sort them\n",
    "    uniques=uniques[::-1] #reverse array order\n",
    "    one_hot_translation={} #create an empty dictionary with unique items as keys, and one hot translation as value\n",
    "    for item in uniques:\n",
    "        one_hot_translation[item]=np.zeros(uniques.shape,dtype=int)\n",
    "        one_hot_translation[item][np.where(uniques==item)[0]]=1\n",
    "    return one_hot_translation"
   ],
   "metadata": {
    "collapsed": false
   }
  },
  {
   "cell_type": "code",
   "execution_count": 95,
   "outputs": [
    {
     "data": {
      "text/plain": "{9: array([1, 0, 0, 0, 0, 0, 0, 0, 0, 0]),\n 8: array([0, 1, 0, 0, 0, 0, 0, 0, 0, 0]),\n 7: array([0, 0, 1, 0, 0, 0, 0, 0, 0, 0]),\n 6: array([0, 0, 0, 1, 0, 0, 0, 0, 0, 0]),\n 5: array([0, 0, 0, 0, 1, 0, 0, 0, 0, 0]),\n 4: array([0, 0, 0, 0, 0, 1, 0, 0, 0, 0]),\n 3: array([0, 0, 0, 0, 0, 0, 1, 0, 0, 0]),\n 2: array([0, 0, 0, 0, 0, 0, 0, 1, 0, 0]),\n 1: array([0, 0, 0, 0, 0, 0, 0, 0, 1, 0]),\n 0: array([0, 0, 0, 0, 0, 0, 0, 0, 0, 1])}"
     },
     "execution_count": 95,
     "metadata": {},
     "output_type": "execute_result"
    }
   ],
   "source": [
    "one_hot_encoder(test_labels)\n",
    "one_hot_encoder(train_labels)"
   ],
   "metadata": {
    "collapsed": false
   }
  },
  {
   "cell_type": "code",
   "execution_count": null,
   "outputs": [],
   "source": [
    "class NeuralNetwork:\n",
    "    def __init__(self, data, batch = 64, lr = 1e-3,  epochs = 50):\n",
    "        self.input = X\n",
    "        self.target = y\n",
    "        self.batch = batch\n",
    "        self.epochs = epochs\n",
    "        self.lr = lr\n",
    "\n",
    "        self.x = self.input[:self.batch] # batch input\n",
    "        self.y = self.target[:self.batch] # batch target value\n",
    "        self.loss = []\n",
    "        self.acc = []\n",
    "\n",
    "        self.init_weights()\n",
    "\n",
    "    def init_weights(self):\n",
    "        self.W1 = np.random.randn(self.input.shape[1],256)\n",
    "        self.W2 = np.random.randn(self.W1.shape[1],128)\n",
    "        self.W3 = np.random.randn(self.W2.shape[1],self.y.shape[1])\n",
    "\n",
    "        self.b1 = np.random.randn(self.W1.shape[1],)\n",
    "        self.b2 = np.random.randn(self.W2.shape[1],)\n",
    "        self.b3 = np.random.randn(self.W3.shape[1],)\n",
    "\n",
    "    def ReLU(self, x):\n",
    "        return np.maximum(0,x)\n",
    "\n",
    "    def dReLU(self,x):\n",
    "        return 1 * (x > 0)\n",
    "\n",
    "    def softmax(self, z):\n",
    "        z = z - np.max(z, axis = 1).reshape(z.shape[0],1)\n",
    "        return np.exp(z) / np.sum(np.exp(z), axis = 1).reshape(z.shape[0],1)\n",
    "\n",
    "    def shuffle(self):\n",
    "        idx = [i for i in range(self.input.shape[0])]\n",
    "        np.random.shuffle(idx)\n",
    "        self.input = self.input[idx]\n",
    "        self.target = self.target[idx]\n",
    "\n",
    "    def feedforward(self):\n",
    "        assert self.x.shape[1] == self.W1.shape[0]\n",
    "        self.z1 = self.x.dot(self.W1) + self.b1\n",
    "        self.a1 = self.ReLU(self.z1)\n",
    "\n",
    "        assert self.a1.shape[1] == self.W2.shape[0]\n",
    "        self.z2 = self.a1.dot(self.W2) + self.b2\n",
    "        self.a2 = self.ReLU(self.z2)\n",
    "\n",
    "        assert self.a2.shape[1] == self.W3.shape[0]\n",
    "        self.z3 = self.a2.dot(self.W3) + self.b3\n",
    "        self.a3 = self.softmax(self.z3)\n",
    "        self.error = self.a3 - self.y\n",
    "\n",
    "\n",
    "    def backprop(self):\n",
    "        dcost = (1/self.batch)*self.error\n",
    "\n",
    "        DW3 = np.dot(dcost.T,self.a2).T\n",
    "        DW2 = np.dot((np.dot((dcost),self.W3.T) * self.dReLU(self.z2)).T,self.a1).T\n",
    "        DW1 = np.dot((np.dot(np.dot((dcost),self.W3.T)*self.dReLU(self.z2),self.W2.T)*self.dReLU(self.z1)).T,self.x).T\n",
    "\n",
    "        db3 = np.sum(dcost,axis = 0)\n",
    "        db2 = np.sum(np.dot((dcost),self.W3.T) * self.dReLU(self.z2),axis = 0)\n",
    "        db1 = np.sum((np.dot(np.dot((dcost),self.W3.T)*self.dReLU(self.z2),self.W2.T)*self.dReLU(self.z1)),axis = 0)\n",
    "\n",
    "        assert DW3.shape == self.W3.shape\n",
    "        assert DW2.shape == self.W2.shape\n",
    "        assert DW1.shape == self.W1.shape\n",
    "\n",
    "        assert db3.shape == self.b3.shape\n",
    "        assert db2.shape == self.b2.shape\n",
    "        assert db1.shape == self.b1.shape\n",
    "\n",
    "        self.W3 = self.W3 - self.lr * DW3\n",
    "        self.W2 = self.W2 - self.lr * DW2\n",
    "        self.W1 = self.W1 - self.lr * DW1\n",
    "\n",
    "        self.b3 = self.b3 - self.lr * db3\n",
    "        self.b2 = self.b2 - self.lr * db2\n",
    "        self.b1 = self.b1 - self.lr * db1\n",
    "\n",
    "    def train(self):\n",
    "        for epoch in range(self.epochs):\n",
    "            l = 0\n",
    "            acc = 0\n",
    "            self.shuffle()\n",
    "\n",
    "            for batch in range(self.input.shape[0]//self.batch-1):\n",
    "                start = batch*self.batch\n",
    "                end = (batch+1)*self.batch\n",
    "                self.x = self.input[start:end]\n",
    "                self.y = self.target[start:end]\n",
    "                self.feedforward()\n",
    "                self.backprop()\n",
    "                l+=np.mean(self.error**2)\n",
    "                acc+= np.count_nonzero(np.argmax(self.a3,axis=1) == np.argmax(self.y,axis=1)) / self.batch\n",
    "\n",
    "            self.loss.append(l/(self.input.shape[0]//self.batch))\n",
    "            self.acc.append(acc*100/(self.input.shape[0]//self.batch))\n",
    "\n",
    "    def plot(self):\n",
    "        plt.figure(dpi = 125)\n",
    "        plt.plot(self.loss)\n",
    "        plt.xlabel(\"Epochs\")\n",
    "        plt.ylabel(\"Loss\")\n",
    "\n",
    "    def acc_plot(self):\n",
    "        plt.figure(dpi = 125)\n",
    "        plt.plot(self.acc)\n",
    "        plt.xlabel(\"Epochs\")\n",
    "        plt.ylabel(\"Accuracy\")\n",
    "\n",
    "    def test(self,xtest,ytest):\n",
    "        self.x = xtest\n",
    "        self.y = ytest\n",
    "        self.feedforward()\n",
    "        acc = np.count_nonzero(np.argmax(self.a3,axis=1) == np.argmax(self.y,axis=1)) / self.x.shape[0]\n",
    "        print(\"Accuracy:\", 100 * acc, \"%\")\n",
    "\n",
    "\n",
    "\n",
    "NN = NeuralNetwork(X_train, y_train)\n",
    "NN.train()\n",
    "NN.plot()\n",
    "NN.test(X_test,y_test)"
   ],
   "metadata": {
    "collapsed": false
   }
  }
 ],
 "metadata": {
  "kernelspec": {
   "display_name": "Python 3",
   "language": "python",
   "name": "python3"
  },
  "language_info": {
   "codemirror_mode": {
    "name": "ipython",
    "version": 2
   },
   "file_extension": ".py",
   "mimetype": "text/x-python",
   "name": "python",
   "nbconvert_exporter": "python",
   "pygments_lexer": "ipython2",
   "version": "2.7.6"
  }
 },
 "nbformat": 4,
 "nbformat_minor": 0
}
